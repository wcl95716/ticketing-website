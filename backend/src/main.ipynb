{
 "cells": [
  {
   "cell_type": "code",
   "execution_count": 156,
   "metadata": {},
   "outputs": [],
   "source": [
    "import time\n",
    "import datetime"
   ]
  },
  {
   "cell_type": "code",
   "execution_count": 164,
   "metadata": {},
   "outputs": [
    {
     "name": "stdout",
     "output_type": "stream",
     "text": [
      "9885455437993 1699885455437993\n",
      "9885455438029 1699885455438029\n",
      "9885455438034 1699885455438034\n",
      "9885455438038 1699885455438038\n",
      "9885455438042 1699885455438042\n",
      "9885455438046 1699885455438046\n",
      "9885455438049 1699885455438049\n",
      "9885455438054 1699885455438054\n",
      "9885455438059 1699885455438059\n",
      "9885455438063 1699885455438063\n"
     ]
    }
   ],
   "source": [
    "for i in range(10):\n",
    "    timestamp = int(time.time() * 1000 * 1000) \n",
    "    last_ten_digits = timestamp % (10**13)\n",
    "    print(last_ten_digits , timestamp  )"
   ]
  },
  {
   "cell_type": "code",
   "execution_count": 163,
   "metadata": {},
   "outputs": [
    {
     "name": "stdout",
     "output_type": "stream",
     "text": [
      "2023-11-13-9885453602639\n"
     ]
    }
   ],
   "source": [
    "timestamp = datetime.datetime.now().date()\n",
    "time_id = int(time.time() * 1000 * 1000)\n",
    "last_ten_digits = time_id % (10**13)\n",
    "ticket_id = f\"{timestamp}-{last_ten_digits}\"\n",
    "print(ticket_id)"
   ]
  }
 ],
 "metadata": {
  "kernelspec": {
   "display_name": "ticketing-website",
   "language": "python",
   "name": "python3"
  },
  "language_info": {
   "codemirror_mode": {
    "name": "ipython",
    "version": 3
   },
   "file_extension": ".py",
   "mimetype": "text/x-python",
   "name": "python",
   "nbconvert_exporter": "python",
   "pygments_lexer": "ipython3",
   "version": "3.9.18"
  }
 },
 "nbformat": 4,
 "nbformat_minor": 2
}
